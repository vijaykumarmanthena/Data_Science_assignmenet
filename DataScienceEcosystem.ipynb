{
  "cells": [
    {
      "cell_type": "markdown",
      "metadata": {
        "id": "jGMYDzDmjEtk"
      },
      "source": [
        "<center>\n",
        "    <img src=\"https://cf-courses-data.s3.us.cloud-object-storage.appdomain.cloud/IBMDeveloperSkillsNetwork-DS0105EN-SkillsNetwork/labs/Module2/images/SN_web_lightmode.png\" width=\"300\" alt=\"cognitiveclass.ai logo\">\n",
        "</center>\n"
      ]
    },
    {
      "cell_type": "markdown",
      "metadata": {
        "id": "eDUEVNIKjEtm"
      },
      "source": [
        "#### Add your code below following the instructions given in the course\n"
      ]
    },
    {
      "cell_type": "markdown",
      "source": [
        "# Data Science Tools and Ecosystem"
      ],
      "metadata": {
        "id": "oarPr7U1kGI0"
      }
    },
    {
      "cell_type": "markdown",
      "source": [
        "In this notebook, Data Science Tools and Ecosystem are summarized"
      ],
      "metadata": {
        "id": "AsV1tkKokz0X"
      }
    },
    {
      "cell_type": "markdown",
      "source": [
        "Some of the popular languages that Data Scientists use are:\n",
        "1. Python\n",
        "2. R\n",
        "3. Scala"
      ],
      "metadata": {
        "id": "R0zkRO8ylSyz"
      }
    },
    {
      "cell_type": "markdown",
      "source": [
        "Some of the commonly used libraries used by Data Scientists include:\n",
        "1. TensorFlow\n",
        "2. NumPy\n",
        "3. SciPy\n",
        "4. Pandas\n",
        "5. Keras\n"
      ],
      "metadata": {
        "id": "hTtAitR7l4KU"
      }
    },
    {
      "cell_type": "markdown",
      "source": [
        "|Data Science Tools|\n",
        "|------------------|\n",
        "|RStudio           |\n",
        "|Apache Spark      |\n",
        "|Apache Handoop    |\n",
        "|TensorFlow        |\n"
      ],
      "metadata": {
        "id": "SYozI5RnmdOa"
      }
    },
    {
      "cell_type": "markdown",
      "source": [
        "### Below are a few examples of evaluating arithmetic expressions in Python\n"
      ],
      "metadata": {
        "id": "OA59EqhXndsC"
      }
    },
    {
      "cell_type": "code",
      "source": [
        "# This a simple arithmetic expression to mutiply then add integers.\n",
        "(3*4)+5"
      ],
      "metadata": {
        "colab": {
          "base_uri": "https://localhost:8080/"
        },
        "id": "7pVY9qPnnsSU",
        "outputId": "c8906534-af50-4253-b66c-325982c3afbe"
      },
      "execution_count": 2,
      "outputs": [
        {
          "output_type": "execute_result",
          "data": {
            "text/plain": [
              "17"
            ]
          },
          "metadata": {},
          "execution_count": 2
        }
      ]
    },
    {
      "cell_type": "code",
      "source": [
        "#This will convert 200 minutes to hours by diving by 60\n",
        "200/60"
      ],
      "metadata": {
        "colab": {
          "base_uri": "https://localhost:8080/"
        },
        "id": "P36Ew2pYn_DM",
        "outputId": "04f8ceea-002b-4e62-8100-4e28cac365dc"
      },
      "execution_count": 3,
      "outputs": [
        {
          "output_type": "execute_result",
          "data": {
            "text/plain": [
              "3.3333333333333335"
            ]
          },
          "metadata": {},
          "execution_count": 3
        }
      ]
    },
    {
      "cell_type": "markdown",
      "source": [
        "***Objectives:***\n",
        "- List popular languages for Data Science\n",
        "- Popular Libraries used in Data Science\n",
        "- Expression Evaluation"
      ],
      "metadata": {
        "id": "xoz9g_7wobOJ"
      }
    },
    {
      "cell_type": "markdown",
      "source": [
        "## Author\n",
        "Vijay"
      ],
      "metadata": {
        "id": "OqG1yBwNpbJt"
      }
    }
  ],
  "metadata": {
    "kernelspec": {
      "display_name": "Python 3",
      "name": "python3"
    },
    "language_info": {
      "name": "python"
    },
    "colab": {
      "provenance": []
    },
    "gpuClass": "standard"
  },
  "nbformat": 4,
  "nbformat_minor": 0
}